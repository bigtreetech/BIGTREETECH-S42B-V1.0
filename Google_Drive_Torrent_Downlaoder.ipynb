{
  "nbformat": 4,
  "nbformat_minor": 0,
  "metadata": {
    "colab": {
      "name": "Google Drive Torrent Downlaoder.ipynb",
      "provenance": [],
      "collapsed_sections": [],
      "include_colab_link": true
    },
    "kernelspec": {
      "name": "python3",
      "display_name": "Python 3"
    }
  },
  "cells": [
    {
      "cell_type": "markdown",
      "metadata": {
        "id": "view-in-github",
        "colab_type": "text"
      },
      "source": [
        "<a href=\"https://colab.research.google.com/github/hohuutuan85/BIGTREETECH-S42B-V1.0/blob/Tokent-BTT/Google_Drive_Torrent_Downlaoder.ipynb\" target=\"_parent\"><img src=\"https://colab.research.google.com/assets/colab-badge.svg\" alt=\"Open In Colab\"/></a>"
      ]
    },
    {
      "cell_type": "markdown",
      "metadata": {
        "id": "vLY_5dVZlogP"
      },
      "source": [
        "**Step 1** : install libtorrent Package"
      ]
    },
    {
      "cell_type": "code",
      "metadata": {
        "id": "rmnSQDBclGlF"
      },
      "source": [
        "!apt-get install python3-libtorrent && pip install lbry-libtorrent "
      ],
      "execution_count": null,
      "outputs": []
    },
    {
      "cell_type": "markdown",
      "metadata": {
        "id": "9se-mHyHl8aL"
      },
      "source": [
        "**Step 2** : Import libtorrent"
      ]
    },
    {
      "cell_type": "code",
      "metadata": {
        "id": "S42qWqHRl5tT"
      },
      "source": [
        "import libtorrent as lt"
      ],
      "execution_count": null,
      "outputs": []
    },
    {
      "cell_type": "markdown",
      "metadata": {
        "id": "Jx5Bojvymg2w"
      },
      "source": [
        "**Step 3** : Mount your Google Drive"
      ]
    },
    {
      "cell_type": "code",
      "metadata": {
        "id": "iuDSAqHxmwcL"
      },
      "source": [
        "from google.colab import drive\n",
        "\n",
        "drive.mount('/content/gdrive2')"
      ],
      "execution_count": null,
      "outputs": []
    },
    {
      "cell_type": "markdown",
      "metadata": {
        "id": "zjKLgUKkm32e"
      },
      "source": [
        "**Step 4** : Replace your Magnet Link And Run Cell ,And  thats It.  Have a Fun !!\n"
      ]
    },
    {
      "cell_type": "code",
      "metadata": {
        "id": "6cH1EPe6nOaG"
      },
      "source": [
        "import libtorrent as lt\n",
        "import time\n",
        "\n",
        "ses = lt.session()\n",
        "params = { 'save_path': '/content/gdrive2/My Drive'}\n",
        "link = \"magnet:?xt=urn:btih:d72af2a6f1b29537399db84a5093287d9a3fecee&dn=Unity-2020.1.16f1\"\n",
        "handle = lt.add_magnet_uri(ses, link, params)\n",
        "\n",
        "print('downloading metadata...')\n",
        "while (not handle.has_metadata()): time.sleep(1)\n",
        "print('got metadata, starting torrent download...')\n",
        "while (handle.status().state != lt.torrent_status.seeding):\n",
        "    print('%d %% done' % (handle.status().progress*100))\n",
        "    time.sleep(1)\n",
        "print('Finished')\n"
      ],
      "execution_count": null,
      "outputs": []
    },
    {
      "cell_type": "markdown",
      "metadata": {
        "id": "nPTNKn1UnYTe"
      },
      "source": [
        "\n",
        "\n",
        "---\n",
        "\n",
        "Repository :https://github.com/shubham8550/Google-Drive-Torrent-Downlaoder\n",
        "\n",
        "Star My Repository and follow me on Github."
      ]
    }
  ]
}